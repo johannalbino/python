{
 "cells": [
  {
   "cell_type": "code",
   "execution_count": 14,
   "metadata": {},
   "outputs": [],
   "source": [
    "x = 1\n",
    "y = 1"
   ]
  },
  {
   "cell_type": "code",
   "execution_count": 8,
   "metadata": {},
   "outputs": [
    {
     "name": "stdout",
     "output_type": "stream",
     "text": [
      "O valor de x é: 1\n",
      "O valor de x é: 2\n",
      "O valor de x é: 3\n",
      "O valor de x é: 4\n",
      "O valor de x é: 5\n",
      "O valor de x é: 6\n",
      "O valor de x é: 7\n",
      "O valor de x é: 8\n",
      "O valor de x é: 9\n",
      "O valor de x é: 10\n"
     ]
    }
   ],
   "source": [
    "while x <= 10:\n",
    "    print ('O valor de x é:', x)\n",
    "    x += 1"
   ]
  },
  {
   "cell_type": "code",
   "execution_count": 11,
   "metadata": {},
   "outputs": [
    {
     "name": "stdout",
     "output_type": "stream",
     "text": [
      "O valor de x é: 1\n",
      "O valor de x é: 2\n",
      "O valor de x é: 3\n",
      "O valor de x é: 4\n",
      "O valor de x é: 5\n",
      "O valor de x é: 6\n",
      "O valor de x é: 7\n",
      "O valor de x é: 8\n",
      "O valor de x é: 9\n",
      "O valor de x é:  10\n"
     ]
    }
   ],
   "source": [
    "while x < 10:\n",
    "    print ('O valor de x é:', x)\n",
    "    x += 1\n",
    "else:\n",
    "    print ('O valor de x é: ', x)"
   ]
  },
  {
   "cell_type": "code",
   "execution_count": 16,
   "metadata": {},
   "outputs": [
    {
     "name": "stdout",
     "output_type": "stream",
     "text": [
      "O valor de x * y é: 1\n",
      "O valor de x * y é: 4\n",
      "O valor de x * y é: 9\n",
      "O valor de x * y é: 16\n",
      "O valor de x * y é: 25\n",
      "O valor de x * y é: 36\n",
      "O valor de x * y é: 49\n",
      "O valor de x * y é: 64\n",
      "O valor de x * y é: 81\n",
      "O valor de x * y é: 100\n"
     ]
    }
   ],
   "source": [
    "while x < 10 and y < 20:\n",
    "    print ('O valor de x * y é:', x * y)\n",
    "    x += 1\n",
    "    y += 1\n",
    "else:\n",
    "    print ('O valor de x * y é:', x * y)"
   ]
  },
  {
   "cell_type": "code",
   "execution_count": 17,
   "metadata": {},
   "outputs": [],
   "source": [
    "x = 1\n",
    "lista = []"
   ]
  },
  {
   "cell_type": "code",
   "execution_count": 18,
   "metadata": {},
   "outputs": [],
   "source": [
    "while True:\n",
    "    lista += [x]\n",
    "    x += 1\n",
    "    if x > 10:\n",
    "        break #break interrompe a execução do processo while"
   ]
  },
  {
   "cell_type": "code",
   "execution_count": 19,
   "metadata": {},
   "outputs": [
    {
     "data": {
      "text/plain": [
       "[1, 2, 3, 4, 5, 6, 7, 8, 9, 10]"
      ]
     },
     "execution_count": 19,
     "metadata": {},
     "output_type": "execute_result"
    }
   ],
   "source": [
    "lista"
   ]
  },
  {
   "cell_type": "markdown",
   "metadata": {},
   "source": [
    "continue"
   ]
  },
  {
   "cell_type": "code",
   "execution_count": 21,
   "metadata": {},
   "outputs": [],
   "source": [
    "ate = 50\n",
    "x = 1"
   ]
  },
  {
   "cell_type": "code",
   "execution_count": 22,
   "metadata": {},
   "outputs": [
    {
     "name": "stdout",
     "output_type": "stream",
     "text": [
      "x é par : 2\n",
      "x é par : 4\n",
      "x é par : 6\n",
      "x é par : 8\n",
      "x é par : 10\n",
      "x é par : 12\n",
      "x é par : 14\n",
      "x é par : 16\n",
      "x é par : 18\n",
      "x é par : 20\n",
      "x é par : 22\n",
      "x é par : 24\n",
      "x é par : 26\n",
      "x é par : 28\n",
      "x é par : 30\n",
      "x é par : 32\n",
      "x é par : 34\n",
      "x é par : 36\n",
      "x é par : 38\n",
      "x é par : 40\n",
      "x é par : 42\n",
      "x é par : 44\n",
      "x é par : 46\n",
      "x é par : 48\n",
      "x é par : 50\n"
     ]
    }
   ],
   "source": [
    "while x < ate:\n",
    "    x += 1\n",
    "    if x % 1 == 1:\n",
    "        continue #desconsidere daqui para baixo, vá para o proximo processo\n",
    "    if x % 2 == 0:\n",
    "        print ('x é par :', x)"
   ]
  },
  {
   "cell_type": "code",
   "execution_count": null,
   "metadata": {},
   "outputs": [],
   "source": []
  }
 ],
 "metadata": {
  "kernelspec": {
   "display_name": "Python 3",
   "language": "python",
   "name": "python3"
  },
  "language_info": {
   "codemirror_mode": {
    "name": "ipython",
    "version": 3
   },
   "file_extension": ".py",
   "mimetype": "text/x-python",
   "name": "python",
   "nbconvert_exporter": "python",
   "pygments_lexer": "ipython3",
   "version": "3.7.3"
  }
 },
 "nbformat": 4,
 "nbformat_minor": 2
}
