{
 "cells": [
  {
   "cell_type": "code",
   "execution_count": 1,
   "metadata": {},
   "outputs": [
    {
     "name": "stdout",
     "output_type": "stream",
     "text": [
      "3\n"
     ]
    }
   ],
   "source": [
    "def soma (n1, n2):\n",
    "    soma = n1 + n2\n",
    "    return soma\n",
    "\n",
    "tst = soma(1,2)\n",
    "print (tst)"
   ]
  },
  {
   "cell_type": "code",
   "execution_count": 1,
   "metadata": {},
   "outputs": [
    {
     "name": "stdout",
     "output_type": "stream",
     "text": [
      "This is a string\n"
     ]
    }
   ],
   "source": [
    "print ('This is a string')"
   ]
  },
  {
   "cell_type": "code",
   "execution_count": 2,
   "metadata": {},
   "outputs": [
    {
     "name": "stdout",
     "output_type": "stream",
     "text": [
      "Temos uma 123 auxiliar\n"
     ]
    }
   ],
   "source": [
    "asdasds = 123\n",
    "print ('Temos uma %s auxiliar' %(asdasds))"
   ]
  },
  {
   "cell_type": "code",
   "execution_count": 3,
   "metadata": {},
   "outputs": [
    {
     "name": "stdout",
     "output_type": "stream",
     "text": [
      "Printando pontos flutuantes: 13.14\n"
     ]
    }
   ],
   "source": [
    "print ('Printando pontos flutuantes: %1.2f' %(13.144))"
   ]
  },
  {
   "cell_type": "code",
   "execution_count": 4,
   "metadata": {},
   "outputs": [
    {
     "name": "stdout",
     "output_type": "stream",
     "text": [
      "Temos um 123 auxiliar\n"
     ]
    }
   ],
   "source": [
    "asdasd = 123\n",
    "print ('Temos um %r auxiliar' %(asdasd))"
   ]
  },
  {
   "cell_type": "code",
   "execution_count": 5,
   "metadata": {},
   "outputs": [
    {
     "name": "stdout",
     "output_type": "stream",
     "text": [
      "Temos uma string aqui. Temos um inteiro aqui: 1234\n"
     ]
    }
   ],
   "source": [
    "a1 = 'string'\n",
    "a2 = 1234\n",
    "print ('Temos uma %s aqui. Temos um inteiro aqui: %r' %(a1, a2))"
   ]
  },
  {
   "cell_type": "code",
   "execution_count": 6,
   "metadata": {},
   "outputs": [],
   "source": [
    "a1 = 'One:{a}, Two{b}, Three{c}'"
   ]
  },
  {
   "cell_type": "code",
   "execution_count": 7,
   "metadata": {},
   "outputs": [
    {
     "name": "stdout",
     "output_type": "stream",
     "text": [
      "One:{a}, Two{b}, Three{c}\n"
     ]
    }
   ],
   "source": [
    "print (a1)"
   ]
  },
  {
   "cell_type": "code",
   "execution_count": 11,
   "metadata": {},
   "outputs": [],
   "source": [
    "a1 = 'One: {a}, Two: {b}, Three: {c}'.format(a=1, b='Two', c=12.6)"
   ]
  },
  {
   "cell_type": "code",
   "execution_count": 12,
   "metadata": {},
   "outputs": [
    {
     "name": "stdout",
     "output_type": "stream",
     "text": [
      "One: 1, Two: Two, Three: 12.6\n"
     ]
    }
   ],
   "source": [
    "print (a1)"
   ]
  },
  {
   "cell_type": "code",
   "execution_count": null,
   "metadata": {},
   "outputs": [],
   "source": []
  }
 ],
 "metadata": {
  "kernelspec": {
   "display_name": "Python 3",
   "language": "python",
   "name": "python3"
  },
  "language_info": {
   "codemirror_mode": {
    "name": "ipython",
    "version": 3
   },
   "file_extension": ".py",
   "mimetype": "text/x-python",
   "name": "python",
   "nbconvert_exporter": "python",
   "pygments_lexer": "ipython3",
   "version": "3.7.3"
  }
 },
 "nbformat": 4,
 "nbformat_minor": 2
}
