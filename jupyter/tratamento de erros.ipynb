{
 "cells": [
  {
   "cell_type": "code",
   "execution_count": 8,
   "metadata": {},
   "outputs": [
    {
     "name": "stdout",
     "output_type": "stream",
     "text": [
      "Não houve erros ao executar\n"
     ]
    }
   ],
   "source": [
    "try:\n",
    "    file = open ('testefile', 'w')\n",
    "    file.write('Testando')\n",
    "    \n",
    "except:\n",
    "    print ('Erro ao tratar o arqivo.')\n",
    "    \n",
    "else:\n",
    "    print ('Não houve erros ao executar')"
   ]
  },
  {
   "cell_type": "code",
   "execution_count": 14,
   "metadata": {},
   "outputs": [
    {
     "name": "stdout",
     "output_type": "stream",
     "text": [
      "Sempre será executado o finally\n"
     ]
    }
   ],
   "source": [
    "try:\n",
    "    f = open('testfile', 'w')\n",
    "    f.write('Teste novamente')\n",
    "finally:\n",
    "    print('Sempre será executado o finally')"
   ]
  },
  {
   "cell_type": "code",
   "execution_count": 15,
   "metadata": {},
   "outputs": [
    {
     "name": "stdout",
     "output_type": "stream",
     "text": [
      "Ocorreu um erro\n"
     ]
    }
   ],
   "source": [
    "try:\n",
    "    for i in ['a', 'b', 'c']:\n",
    "        print (i**2)\n",
    "except:\n",
    "    print ('Ocorreu um erro')"
   ]
  },
  {
   "cell_type": "code",
   "execution_count": 16,
   "metadata": {},
   "outputs": [
    {
     "name": "stdout",
     "output_type": "stream",
     "text": [
      "Não pode ser dividido por zero\n",
      "All Done!\n"
     ]
    }
   ],
   "source": [
    "x = 5\n",
    "y = 0\n",
    "\n",
    "try:\n",
    "    z = x/y\n",
    "except ZeroDivisionError:\n",
    "    print ('Não pode ser dividido por zero')\n",
    "finally:\n",
    "    print ('All Done!')"
   ]
  },
  {
   "cell_type": "code",
   "execution_count": 19,
   "metadata": {},
   "outputs": [],
   "source": [
    "def ask():\n",
    "    while True:\n",
    "        try:\n",
    "            n = int(input('Digite um numero: '))\n",
    "            print ('O numero digitado ao quadrado é : ', n ** 2)\n",
    "            break\n",
    "        except:\n",
    "            print('Numero incorreto, digite novamente')\n",
    "            break"
   ]
  },
  {
   "cell_type": "code",
   "execution_count": 21,
   "metadata": {},
   "outputs": [
    {
     "name": "stdout",
     "output_type": "stream",
     "text": [
      "Digite um numero: .9\n",
      "Numero incorreto, digite novamente\n"
     ]
    }
   ],
   "source": [
    "ask()"
   ]
  },
  {
   "cell_type": "code",
   "execution_count": null,
   "metadata": {},
   "outputs": [],
   "source": []
  }
 ],
 "metadata": {
  "kernelspec": {
   "display_name": "Python 3",
   "language": "python",
   "name": "python3"
  },
  "language_info": {
   "codemirror_mode": {
    "name": "ipython",
    "version": 3
   },
   "file_extension": ".py",
   "mimetype": "text/x-python",
   "name": "python",
   "nbconvert_exporter": "python",
   "pygments_lexer": "ipython3",
   "version": "3.7.3"
  }
 },
 "nbformat": 4,
 "nbformat_minor": 2
}
